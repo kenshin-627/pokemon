{
 "cells": [
  {
   "cell_type": "code",
   "execution_count": 19,
   "metadata": {},
   "outputs": [],
   "source": [
    "import requests\n",
    "\n",
    "pokemon_name = []\n",
    "for i in range(1,495):\n",
    "    url = \"https://pokeapi.co/api/v2/pokemon-species/\" + str (i)\n",
    "    response = requests.get(url)\n",
    "    pokemon_data = response.json()\n",
    "    pokemon_name.append(pokemon_data[\"names\"][0][\"name\"])"
   ]
  },
  {
   "cell_type": "code",
   "execution_count": 36,
   "metadata": {},
   "outputs": [],
   "source": [
    "pokemon_name[169] = \"チョンチー\"\n",
    "pokemon_name[431] = \"ブニャット\""
   ]
  },
  {
   "cell_type": "code",
   "execution_count": 38,
   "metadata": {},
   "outputs": [],
   "source": [
    "import csv\n",
    "\n",
    "with open('pokemon_name.csv', 'w') as f:\n",
    "    writer = csv.writer(f)\n",
    "    writer.writerow(pokemon_name)"
   ]
  }
 ],
 "metadata": {
  "kernelspec": {
   "display_name": "Python 3",
   "language": "python",
   "name": "python3"
  },
  "language_info": {
   "codemirror_mode": {
    "name": "ipython",
    "version": 3
   },
   "file_extension": ".py",
   "mimetype": "text/x-python",
   "name": "python",
   "nbconvert_exporter": "python",
   "pygments_lexer": "ipython3",
   "version": "3.8.3"
  }
 },
 "nbformat": 4,
 "nbformat_minor": 4
}
