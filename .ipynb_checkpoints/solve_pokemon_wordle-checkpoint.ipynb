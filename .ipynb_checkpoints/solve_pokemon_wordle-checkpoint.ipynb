{
 "cells": [
  {
   "cell_type": "code",
   "execution_count": 6,
   "metadata": {},
   "outputs": [
    {
     "name": "stdout",
     "output_type": "stream",
     "text": [
      "正解の可能性があるポケモン: 286匹\n",
      "\n",
      "次に入力するおすすめのポケモン: レントラー\n",
      "\n",
      "あなたが入力したポケモンは: \n",
      "レントラー\n",
      "\n",
      "返ってきた正誤は: (無色: 0, 黄色: 1, 緑色: 2)\n",
      "02221\n",
      "\n",
      "ダイパまでにそんな名前の5文字のポケモンおらんで\n",
      "なんか入力間違えてるはず\n"
     ]
    },
    {
     "ename": "SystemExit",
     "evalue": "0",
     "output_type": "error",
     "traceback": [
      "An exception has occurred, use %tb to see the full traceback.\n",
      "\u001b[0;31mSystemExit\u001b[0m\u001b[0;31m:\u001b[0m 0\n"
     ]
    }
   ],
   "source": [
    "import csv\n",
    "import os\n",
    "from pokemon_name_5 import pokemon_name_5\n",
    "from pokemon_search import pokemon_search\n",
    "import sys\n",
    "\n",
    "if __name__ == \"__main__\":\n",
    "    # 5文字のポケモンの名前とってくる\n",
    "    pokemon_name_5 = []\n",
    "    if not os.path.isfile(\"pokemon_name_5.csv\"):\n",
    "        pokemon_name_5()\n",
    "    with open(\"pokemon_name_5.csv\") as f:\n",
    "        reader = csv.reader(f)\n",
    "        for row in reader:\n",
    "            pokemon_name_5 = row\n",
    "        \n",
    "    # 正解の可能性があるポケモン\n",
    "    possible_poke = pokemon_name_5\n",
    "    \n",
    "    while(True):\n",
    "        # 正解の可能性があるポケモンがおらんくなったら終了\n",
    "        if len(possible_poke) == 0:\n",
    "            print(\"ダイパまでにそんな名前の5文字のポケモンおらんで\")\n",
    "            print(\"なんか入力間違えてるはず\")\n",
    "            sys.exit(0)\n",
    "        \n",
    "        print(\"正解の可能性があるポケモン: \" + str(len(possible_poke)) + \"匹\")\n",
    "        \n",
    "        # 正解の可能性があるポケモンが10匹以下なら全て表示する\n",
    "        if len(possible_poke) <= 10:\n",
    "            print(possible_poke)\n",
    "        \n",
    "        # 改行\n",
    "        print()\n",
    "        \n",
    "        # 正解の可能性があるポケモンの中で誰を入力すれば全外しした時に正解の可能性があるポケモンの数が少なくなるか\n",
    "        min_name = possible_poke[0]\n",
    "        all_miss_min = len(pokemon_search(possible_poke, possible_poke[0], \"00000\"))\n",
    "        for name in possible_poke:\n",
    "            all_miss = len(pokemon_search(possible_poke, name, \"00000\"))\n",
    "            if all_miss_min > all_miss:\n",
    "                min_name = name\n",
    "                all_miss_min = all_miss\n",
    "        print(\"次に入力するおすすめのポケモン: \" + min_name)\n",
    "        \n",
    "        # 改行\n",
    "        print()\n",
    "        \n",
    "        # 入力と正誤を聞く\n",
    "        print(\"あなたが入力したポケモンは: \")\n",
    "        input_poke = input()\n",
    "        \n",
    "        # 改行\n",
    "        print()\n",
    "        \n",
    "        print(\"返ってきた正誤は: (無色: 0, 黄色: 1, 緑色: 2)\")\n",
    "        answer_str = input()\n",
    "        \n",
    "        # 改行\n",
    "        print()\n",
    "        \n",
    "        # 正解なら終了\n",
    "        if answer_str == \"22222\":\n",
    "            print(\"正解おめでとう！！\")\n",
    "            sys.exit(0)\n",
    "        \n",
    "        # 間違いなら入力から正解の可能性があるポケモンを探す\n",
    "        possible_poke = pokemon_search(possible_poke, input_poke, answer_str)"
   ]
  },
  {
   "cell_type": "code",
   "execution_count": null,
   "metadata": {},
   "outputs": [],
   "source": []
  }
 ],
 "metadata": {
  "kernelspec": {
   "display_name": "Python 3",
   "language": "python",
   "name": "python3"
  }
 },
 "nbformat": 4,
 "nbformat_minor": 4
}
