{
 "cells": [
  {
   "cell_type": "code",
   "execution_count": null,
   "metadata": {},
   "outputs": [],
   "source": [
    "# ポケモンを検索する\n",
    "# possible_poke 正解の可能性があるポケモンの配列\n",
    "# input_poke 入力したポケモン\n",
    "# answer_str 各文字が当たっているかどうかの文字列 (不正解: 0, 文字だけ正解: 1, 文字も位置も正解: 2)\n",
    "\n",
    "# グラードンと入力して，グは文字も位置も当たっている，ラは文字は当たっているが位置は違う，他は当たっていない場合は\n",
    "# input_poke → \"グラードン\"\n",
    "# answer_str → \"21000\"\n",
    "def pokemon_search(possible_poke, input_poke, answer_str):\n",
    "    good_name = [] # 条件に合致するポケモンの配列\n",
    "    for name in possible_poke:\n",
    "        is_good = True # nameのポケモンは条件に合致するか\n",
    "        for i in range(len(input_poke)):\n",
    "            # input_pokeのi文字目が不正解の場合，\n",
    "            # input_pokeのi文字目がinameに入っていたら条件に合致しない\n",
    "            if answer_str[i] == \"0\":\n",
    "                if input_poke[i] in name:\n",
    "                    is_good = False\n",
    "                    break\n",
    "\n",
    "            # input_pokeのi文字目が文字だけ当たってて位置が違う場合，\n",
    "            # input_pokeのi文字目がnameのi文字目に含まれているか，nameに入っていなければ条件に合致しない\n",
    "            elif answer_str[i] == \"1\":\n",
    "                if input_poke[i] == name[i] or input_poke[i] not in name:\n",
    "                    is_good = False\n",
    "                    break\n",
    "\n",
    "            # input_pokeのi文字目が文字も位置も当たってる場合，\n",
    "            # input_pokeのi文字目がnameのi文字目に含まれていなければ条件に合致しない\n",
    "            elif answer_str[i] == \"2\":\n",
    "                if input_poke[i] != name[i]:\n",
    "                    is_good == False\n",
    "                    break\n",
    "                \n",
    "        # もしnameのポケモンが条件に合致してたら条件に合致するポケモンの配列に追加する\n",
    "        if is_good:\n",
    "            good_name.append(name)\n",
    "            \n",
    "    # 条件に合致するポケモンの配列を返す\n",
    "    return good_name"
   ]
  }
 ],
 "metadata": {
  "kernelspec": {
   "display_name": "Python 3",
   "language": "python",
   "name": "python3"
  },
  "language_info": {
   "codemirror_mode": {
    "name": "ipython",
    "version": 3
   },
   "file_extension": ".py",
   "mimetype": "text/x-python",
   "name": "python",
   "nbconvert_exporter": "python",
   "pygments_lexer": "ipython3",
   "version": "3.8.3"
  }
 },
 "nbformat": 4,
 "nbformat_minor": 4
}
