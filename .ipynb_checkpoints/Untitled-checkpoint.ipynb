{
 "cells": [
  {
   "cell_type": "code",
   "execution_count": 2,
   "metadata": {},
   "outputs": [],
   "source": [
    "from pokemon_find import pokemon_find\n",
    "from word_count import word_count\n",
    "import csv\n",
    "import pandas as pd\n",
    "\n",
    "pokemon_name_5 = []\n",
    "with open(\"pokemon_name_5.csv\") as f:\n",
    "    reader = csv.reader(f)\n",
    "    for row in reader:\n",
    "        pokemon_name_5 = row"
   ]
  },
  {
   "cell_type": "code",
   "execution_count": 3,
   "metadata": {},
   "outputs": [
    {
     "name": "stdout",
     "output_type": "stream",
     "text": [
      "286\n",
      "リザードン\n",
      "93\n",
      "キングラー\n",
      "86\n",
      "サンダース\n",
      "83\n",
      "ソーナンス\n",
      "83\n",
      "ザングース\n",
      "80\n",
      "ルナトーン\n",
      "76\n",
      "ジーランス\n",
      "72\n",
      "レントラー\n",
      "68\n"
     ]
    }
   ],
   "source": [
    "print(len(pokemon_name_5))\n",
    "a = 100\n",
    "for name in pokemon_name_5:\n",
    "    all_miss = pokemon_find(pokemon_name_5, \"\", name)\n",
    "    if a >= len(all_miss):\n",
    "        print(name)\n",
    "        print(len(all_miss))\n",
    "        a = len(all_miss)"
   ]
  },
  {
   "cell_type": "code",
   "execution_count": 104,
   "metadata": {},
   "outputs": [
    {
     "name": "stdout",
     "output_type": "stream",
     "text": [
      "33\n"
     ]
    }
   ],
   "source": [
    "print(len(pokemon_find(pokemon_name_5,\"\",\"ブラッキースカタンク\")))"
   ]
  },
  {
   "cell_type": "code",
   "execution_count": 92,
   "metadata": {},
   "outputs": [
    {
     "name": "stdout",
     "output_type": "stream",
     "text": [
      "['レディアン', 'カクレオン']\n",
      "2\n",
      "['レディアン', 'カクレオン']\n",
      "ン    2\n",
      "レ    2\n",
      "ク    1\n",
      "ィ    1\n",
      "デ    1\n",
      "ア    1\n",
      "オ    1\n",
      "カ    1\n",
      "dtype: int64\n",
      "フシギダネ\n",
      "2\n",
      "フシギソウ\n",
      "2\n",
      "フシギバナ\n",
      "2\n",
      "カメックス\n",
      "1\n",
      "オニスズメ\n",
      "1\n",
      "オニドリル\n",
      "1\n",
      "アーボック\n",
      "0\n",
      "アズマオウ\n",
      "0\n",
      "ネイティオ\n",
      "0\n",
      "ラティオス\n",
      "0\n",
      "デオキシス\n",
      "0\n",
      "ビクティニ\n",
      "0\n"
     ]
    }
   ],
   "source": [
    "ren = pokemon_find(pokemon_name_5, \"レン\", \"ルナトーロズイド\")\n",
    "print(ren)\n",
    "print(len(ren))\n",
    "print(ren)\n",
    "word_count(ren)\n",
    "a=100\n",
    "for name in pokemon_find(pokemon_name_5, \"\", \"レン\"):\n",
    "    all_miss = pokemon_find(ren, \"\", name)\n",
    "    if a >= len(all_miss):\n",
    "        print(name)\n",
    "        print(len(all_miss))\n",
    "        a = len(all_miss)\n",
    "\n",
    "# c_in = pokemon_find(pokemon_name_5, \"\", \"ナ\")\n",
    "# for d in c_in:\n",
    "#     if len(pokemon_find(ren, \"\", d)) <= 1:\n",
    "#         print(d)\n",
    "#         print(pokemon_find(ren, \"\", d))\n",
    "# ['オニドリル', 'ゴルダック', 'オコリザル', 'レアコイル', 'ヨルノズク', 'マグカルゴ', 'ドクケイル', 'ヤルキモノ', 'チルタリス', 'ソルロック', \n",
    "#  'ユレイドル', 'レジスチル', 'モウカザル', 'ゴウカザル', 'ラムパルド', 'グレッグル', 'ジバコイル', 'エレキブル', 'エルレイド', 'ディアルガ', 'アルセウス']"
   ]
  },
  {
   "cell_type": "code",
   "execution_count": 13,
   "metadata": {},
   "outputs": [
    {
     "name": "stdout",
     "output_type": "stream",
     "text": [
      "フシギダネ\n",
      "7\n",
      "フシギソウ\n",
      "6\n",
      "カメックス\n",
      "2\n",
      "アーボック\n",
      "2\n",
      "ストライク\n",
      "2\n",
      "ヘラクロス\n",
      "2\n",
      "サクラビス\n",
      "2\n",
      "レックウザ\n",
      "2\n",
      "ミノムッチ\n",
      "2\n",
      "マスキッパ\n",
      "2\n",
      "クレセリア\n",
      "1\n",
      "['ゴルダック', 'ヨルノズク', 'ソルロック', 'レジスチル', 'ラムパルド', 'グレッグル', 'ディアルガ', 'アルセウス']\n"
     ]
    }
   ],
   "source": [
    "kame = pokemon_find(ren, \"\", \"カイリキー\")\n",
    "a=100\n",
    "for name in pokemon_find(pokemon_name_5, \"\", \"ル\"):\n",
    "    all_miss = pokemon_find(kame, \"\", name)\n",
    "    if a >= len(all_miss):\n",
    "        print(name)\n",
    "        print(len(all_miss))\n",
    "        a = len(all_miss)\n",
    "print(kame)"
   ]
  },
  {
   "cell_type": "code",
   "execution_count": 12,
   "metadata": {},
   "outputs": [
    {
     "name": "stdout",
     "output_type": "stream",
     "text": [
      "フシギダネ\n",
      "1\n",
      "フシギソウ\n",
      "1\n",
      "フシギバナ\n",
      "1\n",
      "リザードン\n",
      "0\n",
      "ライチュウ\n",
      "0\n",
      "サンドパン\n",
      "0\n",
      "ニドラン♀\n",
      "0\n",
      "ニドリーナ\n",
      "0\n",
      "ニドクイン\n",
      "0\n",
      "ニドラン♂\n",
      "0\n",
      "ニドリーノ\n",
      "0\n",
      "ニドキング\n",
      "0\n",
      "ラフレシア\n",
      "0\n",
      "パラセクト\n",
      "0\n",
      "ユンゲラー\n",
      "0\n",
      "メノクラゲ\n",
      "0\n",
      "ドククラゲ\n",
      "0\n",
      "ドードリオ\n",
      "0\n",
      "スリーパー\n",
      "0\n",
      "キングラー\n",
      "0\n",
      "サワムラー\n",
      "0\n",
      "エビワラー\n",
      "0\n",
      "マタドガス\n",
      "0\n",
      "モンジャラ\n",
      "0\n",
      "バリヤード\n",
      "0\n",
      "ストライク\n",
      "0\n",
      "ギャラドス\n",
      "0\n",
      "オムナイト\n",
      "0\n",
      "オムスター\n",
      "0\n",
      "メガニウム\n",
      "0\n",
      "ヒノアラシ\n",
      "0\n",
      "マグマラシ\n",
      "0\n",
      "アリアドス\n",
      "0\n",
      "ランターン\n",
      "0\n",
      "ブラッキー\n",
      "0\n",
      "ヤミカラス\n",
      "0\n",
      "ヤドキング\n",
      "0\n",
      "グライガー\n",
      "0\n",
      "ヘラクロス\n",
      "0\n",
      "デリバード\n",
      "0\n",
      "エアームド\n",
      "0\n",
      "キングドラ\n",
      "0\n",
      "ドンファン\n",
      "0\n",
      "カポエラー\n",
      "0\n",
      "エレキッド\n",
      "0\n",
      "ヨーギラス\n",
      "0\n",
      "サナギラス\n",
      "0\n",
      "バンギラス\n",
      "0\n",
      "ラグラージ\n",
      "0\n",
      "カラサリス\n",
      "0\n",
      "ペリッパー\n",
      "0\n",
      "ボスゴドラ\n",
      "0\n",
      "チャーレム\n",
      "0\n",
      "ナックラー\n",
      "0\n",
      "ビブラーバ\n",
      "0\n",
      "フライゴン\n",
      "0\n",
      "ドジョッチ\n",
      "0\n",
      "ユキワラシ\n",
      "0\n",
      "タマザラシ\n",
      "0\n",
      "トドグラー\n",
      "0\n",
      "サクラビス\n",
      "0\n",
      "ジーランス\n",
      "0\n",
      "ラティアス\n",
      "0\n",
      "ラティオス\n",
      "0\n",
      "グラードン\n",
      "0\n",
      "ドダイトス\n",
      "0\n",
      "ムクバード\n",
      "0\n",
      "ムクホーク\n",
      "0\n",
      "レントラー\n",
      "0\n",
      "ロズレイド\n",
      "0\n",
      "ズガイドス\n",
      "0\n",
      "ミノムッチ\n",
      "0\n",
      "ミノマダム\n",
      "0\n",
      "カラナクシ\n",
      "0\n",
      "トリトドン\n",
      "0\n",
      "フワライド\n",
      "0\n",
      "ムウマージ\n",
      "0\n",
      "ドンカラス\n",
      "0\n",
      "ドーミラー\n",
      "0\n",
      "ドータクン\n",
      "0\n",
      "ドラピオン\n",
      "0\n",
      "ドクロッグ\n",
      "0\n",
      "マスキッパ\n",
      "0\n",
      "ネオラント\n",
      "0\n",
      "マニューラ\n",
      "0\n",
      "ドサイドン\n",
      "0\n",
      "グライオン\n",
      "0\n",
      "エムリット\n",
      "0\n",
      "ヒードラン\n",
      "0\n",
      "ギラティナ\n",
      "0\n",
      "ダークライ\n",
      "0\n",
      "['ラムパルド']\n",
      "['ラムパルド']\n"
     ]
    }
   ],
   "source": [
    "azu = pokemon_find(kame, \"\", \"\")\n",
    "a=100\n",
    "for name in pokemon_find(pokemon_name_5, \"\", \"ル\"):\n",
    "    all_miss = pokemon_find(azu, \"\", name)\n",
    "    if a >= len(all_miss):\n",
    "        print(name)\n",
    "        print(len(all_miss))\n",
    "        a = len(all_miss)\n",
    "print(pokemon_find(azu,\"\",\"\"))\n",
    "print(azu)"
   ]
  },
  {
   "cell_type": "code",
   "execution_count": 110,
   "metadata": {},
   "outputs": [
    {
     "name": "stdout",
     "output_type": "stream",
     "text": [
      "ー    104\n",
      "ン     81\n",
      "ラ     57\n",
      "ル     55\n",
      "ス     52\n",
      "ド     46\n",
      "イ     45\n",
      "リ     44\n",
      "ッ     40\n",
      "ク     40\n",
      "ト     38\n",
      "マ     30\n",
      "キ     27\n",
      "グ     26\n",
      "オ     24\n",
      "ロ     24\n",
      "シ     24\n",
      "カ     24\n",
      "ウ     22\n",
      "タ     22\n",
      "ア     22\n",
      "レ     22\n",
      "ニ     21\n",
      "ジ     17\n",
      "フ     17\n",
      "バ     17\n",
      "ノ     17\n",
      "ダ     16\n",
      "ガ     16\n",
      "サ     15\n",
      "ム     15\n",
      "ナ     14\n",
      "ュ     14\n",
      "ミ     14\n",
      "ブ     14\n",
      "チ     14\n",
      "ャ     14\n",
      "テ     13\n",
      "ゴ     13\n",
      "ハ     13\n",
      "メ     12\n",
      "ボ     12\n",
      "コ     11\n",
      "エ     11\n",
      "ギ     11\n",
      "ィ     10\n",
      "ザ     10\n",
      "パ      9\n",
      "デ      9\n",
      "ヤ      9\n",
      "ズ      9\n",
      "ワ      8\n",
      "モ      8\n",
      "ゲ      8\n",
      "ポ      7\n",
      "プ      7\n",
      "ネ      7\n",
      "ツ      7\n",
      "ビ      7\n",
      "ピ      6\n",
      "ョ      6\n",
      "ユ      6\n",
      "ベ      5\n",
      "セ      5\n",
      "ヒ      5\n",
      "ペ      4\n",
      "ケ      4\n",
      "ヨ      4\n",
      "ソ      4\n",
      "ホ      3\n",
      "ゼ      3\n",
      "ェ      3\n",
      "ォ      2\n",
      "ヌ      2\n",
      "ァ      2\n",
      "ヘ      1\n",
      "ゾ      1\n",
      "２      1\n",
      "Ｚ      1\n",
      "♂      1\n",
      "♀      1\n",
      "dtype: int64\n"
     ]
    }
   ],
   "source": [
    "word_count(pokemon_name_5)"
   ]
  },
  {
   "cell_type": "code",
   "execution_count": 2,
   "metadata": {},
   "outputs": [
    {
     "name": "stdout",
     "output_type": "stream",
     "text": [
      "a\n",
      "b\n",
      "c\n"
     ]
    }
   ],
   "source": [
    "a = \"abc\"\n",
    "for i in a:\n",
    "    print(i)"
   ]
  },
  {
   "cell_type": "code",
   "execution_count": 15,
   "metadata": {},
   "outputs": [
    {
     "name": "stdout",
     "output_type": "stream",
     "text": [
      "True\n",
      "1\n"
     ]
    }
   ],
   "source": [
    "a= [\"abc\",\"def\"]\n",
    "print(\"abc\" in a)\n",
    "print(a.index(\"def\"))"
   ]
  },
  {
   "cell_type": "code",
   "execution_count": 6,
   "metadata": {},
   "outputs": [
    {
     "name": "stdout",
     "output_type": "stream",
     "text": [
      "0:0\n",
      "0:1\n",
      "0:2\n",
      "0:3\n",
      "1:0\n",
      "1:1\n",
      "1:2\n",
      "1:3\n",
      "2:0\n",
      "2:1\n",
      "2:2\n",
      "2:3\n",
      "3:0\n",
      "3:1\n",
      "3:2\n",
      "3:3\n",
      "4:0\n",
      "4:1\n",
      "4:2\n",
      "4:3\n"
     ]
    }
   ],
   "source": [
    "for i in range(5):\n",
    "    for j in range(5):\n",
    "        print(str(i)+\":\"+str(j))\n",
    "        if j==3:\n",
    "            break"
   ]
  },
  {
   "cell_type": "code",
   "execution_count": 13,
   "metadata": {},
   "outputs": [
    {
     "name": "stdout",
     "output_type": "stream",
     "text": [
      "[0 1 2 3 4 5 6 7 8 9]\n",
      "[2 3 4 5 6 7 8 9]\n"
     ]
    }
   ],
   "source": [
    "import numpy as np\n",
    "a = np.arange(10)\n",
    "print(a)\n",
    "print(a[2:])"
   ]
  },
  {
   "cell_type": "code",
   "execution_count": 18,
   "metadata": {},
   "outputs": [
    {
     "name": "stdout",
     "output_type": "stream",
     "text": [
      "2\n"
     ]
    }
   ],
   "source": [
    "dic = {\"1\":\"2 3\", \"4\":\"5 6\"}\n",
    "print(dic[\"1\"].split()[0])"
   ]
  },
  {
   "cell_type": "code",
   "execution_count": 20,
   "metadata": {},
   "outputs": [
    {
     "name": "stdout",
     "output_type": "stream",
     "text": [
      "['5']\n"
     ]
    }
   ],
   "source": [
    "wait_nums = [\"3\",\"4\",\"5\"]\n",
    "A = \"4\"\n",
    "A_back = wait_nums[wait_nums.index(A)+1:]\n",
    "print(A_back)"
   ]
  },
  {
   "cell_type": "code",
   "execution_count": 21,
   "metadata": {},
   "outputs": [
    {
     "name": "stdout",
     "output_type": "stream",
     "text": [
      "0 1 2\n"
     ]
    }
   ],
   "source": [
    "a = [\"0\",\"1\",\"2\"]\n",
    "print(\" \".join(a))"
   ]
  },
  {
   "cell_type": "code",
   "execution_count": null,
   "metadata": {},
   "outputs": [],
   "source": []
  }
 ],
 "metadata": {
  "kernelspec": {
   "display_name": "Python 3",
   "language": "python",
   "name": "python3"
  },
  "language_info": {
   "codemirror_mode": {
    "name": "ipython",
    "version": 3
   },
   "file_extension": ".py",
   "mimetype": "text/x-python",
   "name": "python",
   "nbconvert_exporter": "python",
   "pygments_lexer": "ipython3",
   "version": "3.8.3"
  }
 },
 "nbformat": 4,
 "nbformat_minor": 4
}
