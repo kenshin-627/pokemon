{
 "cells": [
  {
   "cell_type": "code",
   "execution_count": 10,
   "metadata": {},
   "outputs": [],
   "source": [
    "import csv\n",
    "\n",
    "pokemon_name = []\n",
    "with open(\"pokemon_name.csv\") as f:\n",
    "    reader = csv.reader(f)\n",
    "    for row in reader:\n",
    "        pokemon_name = row\n",
    "        \n",
    "pokemon_name_5 = []\n",
    "for name in pokemon_name:\n",
    "    if len(name) == 5:\n",
    "        pokemon_name_5.append(name)\n",
    "        \n",
    "with open('pokemon_name_5.csv', 'w') as f:\n",
    "    writer = csv.writer(f)\n",
    "    writer.writerow(pokemon_name_5)"
   ]
  },
  {
   "cell_type": "code",
   "execution_count": null,
   "metadata": {},
   "outputs": [],
   "source": []
  }
 ],
 "metadata": {
  "kernelspec": {
   "display_name": "Python 3",
   "language": "python",
   "name": "python3"
  },
  "language_info": {
   "codemirror_mode": {
    "name": "ipython",
    "version": 3
   },
   "file_extension": ".py",
   "mimetype": "text/x-python",
   "name": "python",
   "nbconvert_exporter": "python",
   "pygments_lexer": "ipython3",
   "version": "3.8.3"
  }
 },
 "nbformat": 4,
 "nbformat_minor": 4
}
